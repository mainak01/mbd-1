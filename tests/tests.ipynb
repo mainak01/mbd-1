{
 "cells": [
  {
   "cell_type": "code",
   "execution_count": null,
   "metadata": {
    "collapsed": false
   },
   "outputs": [],
   "source": [
    "import sys\n",
    "sys.path.append('..')\n",
    "import pymbd\n",
    "from pymbd import mbd\n",
    "import numpy as np\n",
    "from itertools import chain\n",
    "import matplotlib.pyplot as plt\n",
    "%matplotlib inline"
   ]
  },
  {
   "cell_type": "code",
   "execution_count": null,
   "metadata": {
    "collapsed": false
   },
   "outputs": [],
   "source": [
    "bohr = mbd.bohr"
   ]
  },
  {
   "cell_type": "code",
   "execution_count": null,
   "metadata": {
    "collapsed": false
   },
   "outputs": [],
   "source": [
    "mbd.init_grid(50)"
   ]
  },
  {
   "cell_type": "code",
   "execution_count": null,
   "metadata": {
    "collapsed": false
   },
   "outputs": [],
   "source": [
    "np.set_printoptions(suppress=True, linewidth=120)"
   ]
  },
  {
   "cell_type": "markdown",
   "metadata": {},
   "source": [
    "## Argon dimer"
   ]
  },
  {
   "cell_type": "code",
   "execution_count": null,
   "metadata": {
    "collapsed": false
   },
   "outputs": [],
   "source": [
    "species = ['Ar', 'Ar']\n",
    "xyz = [(0., 0., 0.), (4., 0., 0.)]/bohr"
   ]
  },
  {
   "cell_type": "code",
   "execution_count": null,
   "metadata": {
    "collapsed": false
   },
   "outputs": [],
   "source": [
    "alpha_0, C6, R_vdw = pymbd.get_free_atom_data(species)\n",
    "omega = mbd.omega_eff(C6, alpha_0)"
   ]
  },
  {
   "cell_type": "code",
   "execution_count": null,
   "metadata": {
    "collapsed": false
   },
   "outputs": [],
   "source": [
    "mbd.get_single_mbd_energy('', 'fermi,dip', xyz, alpha_0, omega, r_vdw=R_vdw, beta=1., a=6.)[0]"
   ]
  },
  {
   "cell_type": "code",
   "execution_count": null,
   "metadata": {
    "collapsed": false
   },
   "outputs": [],
   "source": [
    "mbd.get_single_rpa_energy('', 'fermi,dip', xyz, mbd.alpha_dynamic_ts_all('C', mbd.n_grid_omega, alpha_0, c6=C6),\n",
    "                       r_vdw=R_vdw, beta=1., a=6.)[0]"
   ]
  },
  {
   "cell_type": "code",
   "execution_count": null,
   "metadata": {
    "collapsed": false
   },
   "outputs": [],
   "source": [
    "mbd.get_ts_energy('', 'fermi2', xyz, C6, alpha_0, r_vdw=R_vdw, s_r=1., d=6.)"
   ]
  },
  {
   "cell_type": "markdown",
   "metadata": {},
   "source": [
    "## Linear argon chain"
   ]
  },
  {
   "cell_type": "code",
   "execution_count": null,
   "metadata": {
    "collapsed": false
   },
   "outputs": [],
   "source": [
    "species = ['Ar']\n",
    "xyz = [(0., 0., 0.)]/bohr\n",
    "uc = np.array([(4., 0., 0.), (0., 10., 0.), (0., 0., 10.)])/bohr\n",
    "mbd.param_vacuum_axis = (False, True, True)"
   ]
  },
  {
   "cell_type": "code",
   "execution_count": null,
   "metadata": {
    "collapsed": false
   },
   "outputs": [],
   "source": [
    "alpha_0, C6, R_vdw = pymbd.get_free_atom_data(species)\n",
    "omega = mbd.omega_eff(C6, alpha_0)"
   ]
  },
  {
   "cell_type": "code",
   "execution_count": null,
   "metadata": {
    "collapsed": false
   },
   "outputs": [],
   "source": [
    "k_grid = mbd.make_k_grid(mbd.make_g_grid(200, 1, 1), uc)"
   ]
  },
  {
   "cell_type": "code",
   "execution_count": null,
   "metadata": {
    "collapsed": false
   },
   "outputs": [],
   "source": [
    "omegas = mbd.get_reciprocal_mbd_energy('REV', 'dip,gg', xyz, alpha_0, omega, k_grid, uc,   \n",
    "                                       r_vdw=R_vdw, beta=1., a=6.)[1]"
   ]
  },
  {
   "cell_type": "code",
   "execution_count": null,
   "metadata": {
    "collapsed": false
   },
   "outputs": [],
   "source": [
    "plt.plot(*chain.from_iterable((*zip(*sorted(zip(k_grid[:, 0], omegas[:, i]))), 'b-') for i in range(omegas.shape[1])))"
   ]
  },
  {
   "cell_type": "code",
   "execution_count": null,
   "metadata": {
    "collapsed": false
   },
   "outputs": [],
   "source": [
    "ns_kpt = [4, 8, 12, 20, 40, 80]\n",
    "enes_periodic = []\n",
    "for n_kpt in ns_kpt:\n",
    "    k_grid = mbd.make_k_grid(mbd.make_g_grid(n_kpt, 1, 1), uc)\n",
    "    ene = mbd.get_reciprocal_mbd_energy('R', 'fermi,dip', xyz, alpha_0, omega, k_grid, uc,\n",
    "                                      r_vdw=R_vdw, beta=1., a=6.)[0]\n",
    "    enes_periodic.append(ene)"
   ]
  },
  {
   "cell_type": "code",
   "execution_count": null,
   "metadata": {
    "collapsed": false
   },
   "outputs": [],
   "source": [
    "ns_cell = [4, 8, 12, 20, 40, 80]\n",
    "enes_supercell = []\n",
    "for n_cell in ns_cell:\n",
    "    ene = mbd.get_supercell_mbd_energy('C', 'fermi,dip', xyz, alpha_0, omega, uc, (n_cell, 1, 1),\n",
    "                                       r_vdw=R_vdw, beta=1., a=6.)[0]\n",
    "    enes_supercell.append(ene)"
   ]
  },
  {
   "cell_type": "code",
   "execution_count": null,
   "metadata": {
    "collapsed": false
   },
   "outputs": [],
   "source": [
    "plt.plot(ns_cell, enes_supercell, 'b',\n",
    "         ns_kpt, enes_periodic, 'r')"
   ]
  },
  {
   "cell_type": "code",
   "execution_count": null,
   "metadata": {
    "collapsed": false
   },
   "outputs": [],
   "source": [
    "mbd.get_ts_energy('C', 'fermi2', xyz, C6, alpha_0, r_vdw=R_vdw, s_r=1., d=6., unit_cell=uc)"
   ]
  },
  {
   "cell_type": "code",
   "execution_count": null,
   "metadata": {
    "collapsed": false
   },
   "outputs": [],
   "source": [
    "(enes_supercell[-1], enes_periodic[-1])"
   ]
  },
  {
   "cell_type": "code",
   "execution_count": null,
   "metadata": {
    "collapsed": false
   },
   "outputs": [],
   "source": [
    "mbd.get_supercell_mbd_energy('C', 'fermi,dip', xyz, alpha_0, omega, uc, (80, 1, 1),\n",
    "                             r_vdw=R_vdw, beta=1., a=6.)[0]"
   ]
  },
  {
   "cell_type": "code",
   "execution_count": null,
   "metadata": {
    "collapsed": false
   },
   "outputs": [],
   "source": [
    "mbd.get_supercell_mbd_energy('CQ', 'fermi,dip', xyz, alpha_0, omega, uc, (80, 1, 1),\n",
    "                             r_vdw=R_vdw, beta=1., a=6.)[0]"
   ]
  },
  {
   "cell_type": "code",
   "execution_count": null,
   "metadata": {
    "collapsed": false
   },
   "outputs": [],
   "source": [
    "mbd.get_reciprocal_mbd_energy('R', 'fermi,dip', xyz, alpha_0, omega, k_grid, uc,\n",
    "                             r_vdw=R_vdw, beta=1., a=6.)[0]"
   ]
  },
  {
   "cell_type": "code",
   "execution_count": null,
   "metadata": {
    "collapsed": false
   },
   "outputs": [],
   "source": [
    "# orders = mbd.get_reciprocal_mbd_energy('RQO', 'fermi,dip', xyz, alpha_0, omega, k_grid, uc,\n",
    "#                              r_vdw=R_vdw, beta=1., a=6.)[3]"
   ]
  },
  {
   "cell_type": "code",
   "execution_count": null,
   "metadata": {
    "collapsed": false
   },
   "outputs": [],
   "source": [
    "# plt.plot(*chain.from_iterable((*zip(*sorted(zip(k_grid[:, 0], orders[:, i]))), 'b-') for i in range(omegas.shape[1])))"
   ]
  },
  {
   "cell_type": "markdown",
   "metadata": {},
   "source": [
    "## Linear argon chain (2 atoms in cell)"
   ]
  },
  {
   "cell_type": "code",
   "execution_count": null,
   "metadata": {
    "collapsed": false
   },
   "outputs": [],
   "source": [
    "species = ['Ar', 'Ar']\n",
    "xyz = [(0., 0., 0.), (4., 0., 0.)]/bohr\n",
    "uc = np.array([(8., 0., 0.), (0., 10., 0.), (0., 0., 10.)])/bohr\n",
    "mbd.param_vacuum_axis = (False, True, True)"
   ]
  },
  {
   "cell_type": "code",
   "execution_count": null,
   "metadata": {
    "collapsed": false
   },
   "outputs": [],
   "source": [
    "alpha_0, C6, R_vdw = pymbd.get_free_atom_data(species)\n",
    "omega = mbd.omega_eff(C6, alpha_0)"
   ]
  },
  {
   "cell_type": "code",
   "execution_count": null,
   "metadata": {
    "collapsed": false
   },
   "outputs": [],
   "source": [
    "k_grid = mbd.make_k_grid(mbd.make_g_grid(200, 1, 1), uc)"
   ]
  },
  {
   "cell_type": "code",
   "execution_count": null,
   "metadata": {
    "collapsed": false
   },
   "outputs": [],
   "source": [
    "omegas = mbd.get_reciprocal_mbd_energy('REV', 'fermi,dip', xyz, alpha_0, omega, k_grid, uc,\n",
    "                                       r_vdw=R_vdw, beta=1., a=6.)[1]"
   ]
  },
  {
   "cell_type": "code",
   "execution_count": null,
   "metadata": {
    "collapsed": false
   },
   "outputs": [],
   "source": [
    "plt.plot(*chain.from_iterable((\n",
    "            *zip(*sorted(zip(k_grid[:, 0], omegas[:, i]))),\n",
    "            'b-',\n",
    "            *zip(*sorted(zip(k_grid[:, 0]+2*np.pi/8*bohr, omegas[:, i]))),\n",
    "            'b-'\n",
    "        ) for i in range(omegas.shape[1])))"
   ]
  },
  {
   "cell_type": "code",
   "execution_count": null,
   "metadata": {
    "collapsed": false
   },
   "outputs": [],
   "source": [
    "ns_kpt = [4, 8, 12, 20, 40, 80]\n",
    "enes_periodic = []\n",
    "for n_kpt in ns_kpt:\n",
    "    k_grid = mbd.make_k_grid(mbd.make_g_grid(n_kpt, 1, 1), uc)\n",
    "    ene = mbd.get_reciprocal_mbd_energy('R', 'fermi,dip', xyz, alpha_0, omega, k_grid, uc,\n",
    "                                      r_vdw=R_vdw, beta=1., a=6.)[0]\n",
    "    enes_periodic.append(ene)"
   ]
  },
  {
   "cell_type": "code",
   "execution_count": null,
   "metadata": {
    "collapsed": false
   },
   "outputs": [],
   "source": [
    "ns_cell = [4, 8, 12, 20, 40, 80]\n",
    "enes_supercell = []\n",
    "for n_cell in ns_cell:\n",
    "    ene = mbd.get_supercell_mbd_energy('C', 'fermi,dip', xyz, alpha_0, omega, uc, (n_cell, 1, 1),\n",
    "                                       r_vdw=R_vdw, beta=1., a=6.)[0]\n",
    "    enes_supercell.append(ene)"
   ]
  },
  {
   "cell_type": "code",
   "execution_count": null,
   "metadata": {
    "collapsed": false
   },
   "outputs": [],
   "source": [
    "plt.plot(ns_cell, enes_supercell, 'b',\n",
    "         ns_kpt, enes_periodic, 'r')"
   ]
  },
  {
   "cell_type": "code",
   "execution_count": null,
   "metadata": {
    "collapsed": false
   },
   "outputs": [],
   "source": [
    "mbd.get_ts_energy('C', 'fermi2', xyz, C6, alpha_0, r_vdw=R_vdw, s_r=1., d=6., unit_cell=uc)/2"
   ]
  },
  {
   "cell_type": "code",
   "execution_count": null,
   "metadata": {
    "collapsed": false
   },
   "outputs": [],
   "source": [
    "(enes_supercell[-1]/2, enes_periodic[-1]/2)"
   ]
  },
  {
   "cell_type": "markdown",
   "metadata": {},
   "source": [
    "## Two parallel argon chains"
   ]
  },
  {
   "cell_type": "code",
   "execution_count": null,
   "metadata": {
    "collapsed": true
   },
   "outputs": [],
   "source": [
    "species = ['Ar', 'Ar']\n",
    "xyz = [(0., 0., 0.), (0., 0., 4.)]/bohr\n",
    "uc = np.array([(4., 0., 0.), (0., 10., 0.), (0., 0., 10.)])/bohr\n",
    "mbd.param_vacuum_axis = (False, True, True)"
   ]
  },
  {
   "cell_type": "code",
   "execution_count": null,
   "metadata": {
    "collapsed": false
   },
   "outputs": [],
   "source": [
    "alpha_0, C6, R_vdw = pymbd.get_free_atom_data(species)\n",
    "omega = mbd.omega_eff(C6, alpha_0)"
   ]
  },
  {
   "cell_type": "code",
   "execution_count": null,
   "metadata": {
    "collapsed": false
   },
   "outputs": [],
   "source": [
    "k_grid = mbd.make_k_grid(mbd.make_g_grid(200, 1, 1), uc)"
   ]
  },
  {
   "cell_type": "code",
   "execution_count": null,
   "metadata": {
    "collapsed": false
   },
   "outputs": [],
   "source": [
    "omegas = mbd.get_reciprocal_mbd_energy('REV', 'fermi,dip', xyz, alpha_0, omega, k_grid, uc,\n",
    "                                       r_vdw=R_vdw, beta=1., a=6.)[1]"
   ]
  },
  {
   "cell_type": "code",
   "execution_count": null,
   "metadata": {
    "collapsed": false
   },
   "outputs": [],
   "source": [
    "plt.plot(*chain.from_iterable((*zip(*sorted(zip(k_grid[:, 0], omegas[:, i]))), 'b-') for i in range(omegas.shape[1])))"
   ]
  },
  {
   "cell_type": "code",
   "execution_count": null,
   "metadata": {
    "collapsed": false
   },
   "outputs": [],
   "source": [
    "ns_kpt = [4, 8, 12, 20, 40, 80]\n",
    "enes_periodic = []\n",
    "for n_kpt in ns_kpt:\n",
    "    k_grid = mbd.make_k_grid(mbd.make_g_grid(n_kpt, 1, 1), uc)\n",
    "    ene = mbd.get_reciprocal_mbd_energy('R', 'fermi,dip', xyz, alpha_0, omega, k_grid, uc,\n",
    "                                      r_vdw=R_vdw, beta=1., a=6.)[0]\n",
    "    enes_periodic.append(ene)"
   ]
  },
  {
   "cell_type": "code",
   "execution_count": null,
   "metadata": {
    "collapsed": false
   },
   "outputs": [],
   "source": [
    "ns_cell = [4, 8, 12, 20, 40, 80]\n",
    "enes_supercell = []\n",
    "for n_cell in ns_cell:\n",
    "    ene = mbd.get_supercell_mbd_energy('C', 'fermi,dip', xyz, alpha_0, omega, uc, (n_cell, 1, 1),\n",
    "                                       r_vdw=R_vdw, beta=1., a=6.)[0]\n",
    "    enes_supercell.append(ene)"
   ]
  },
  {
   "cell_type": "code",
   "execution_count": null,
   "metadata": {
    "collapsed": false
   },
   "outputs": [],
   "source": [
    "plt.plot(ns_cell, enes_supercell, 'b',\n",
    "         ns_kpt, enes_periodic, 'r')"
   ]
  },
  {
   "cell_type": "code",
   "execution_count": null,
   "metadata": {
    "collapsed": false
   },
   "outputs": [],
   "source": [
    "mbd.get_ts_energy('C', 'fermi2', xyz, C6, alpha_0, r_vdw=R_vdw, s_r=1., d=6., unit_cell=uc)"
   ]
  },
  {
   "cell_type": "code",
   "execution_count": null,
   "metadata": {
    "collapsed": false
   },
   "outputs": [],
   "source": [
    "(enes_supercell[-1], enes_periodic[-1])"
   ]
  },
  {
   "cell_type": "markdown",
   "metadata": {},
   "source": [
    "## Argon crystal"
   ]
  },
  {
   "cell_type": "code",
   "execution_count": null,
   "metadata": {
    "collapsed": false
   },
   "outputs": [],
   "source": [
    "species = ['Ar']\n",
    "xyz = [(0., 0., 0.)]/bohr\n",
    "uc = np.array([(4., 0., 0.), (0., 4., 0.), (0., 0., 4.)])/bohr\n",
    "mbd.param_vacuum_axis = (False, False, False)"
   ]
  },
  {
   "cell_type": "code",
   "execution_count": null,
   "metadata": {
    "collapsed": false
   },
   "outputs": [],
   "source": [
    "alpha_0, C6, R_vdw = pymbd.get_free_atom_data(species)\n",
    "omega = mbd.omega_eff(C6, alpha_0)"
   ]
  },
  {
   "cell_type": "code",
   "execution_count": null,
   "metadata": {
    "collapsed": false
   },
   "outputs": [],
   "source": [
    "k_grid = mbd.make_k_grid(mbd.make_g_grid(100, 1, 1), uc)"
   ]
  },
  {
   "cell_type": "code",
   "execution_count": null,
   "metadata": {
    "collapsed": false
   },
   "outputs": [],
   "source": [
    "omegas = mbd.get_reciprocal_mbd_energy('REV', 'fermi,dip', xyz, alpha_0, omega, k_grid, uc,\n",
    "                                       r_vdw=R_vdw, beta=1., a=6.)[1]"
   ]
  },
  {
   "cell_type": "code",
   "execution_count": null,
   "metadata": {
    "collapsed": false
   },
   "outputs": [],
   "source": [
    "plt.plot(*chain.from_iterable((*zip(*sorted(zip(k_grid[:, 0], omegas[:, i]))), 'b-') for i in range(omegas.shape[1])))"
   ]
  },
  {
   "cell_type": "code",
   "execution_count": null,
   "metadata": {
    "collapsed": false
   },
   "outputs": [],
   "source": [
    "ns_kpt = [3, 4, 5, 6, 7, 8]\n",
    "enes_periodic = []\n",
    "for n_kpt in ns_kpt:\n",
    "    k_grid = mbd.make_k_grid(mbd.make_g_grid(n_kpt, n_kpt, n_kpt), uc)+0.01\n",
    "    ene = mbd.get_reciprocal_mbd_energy('R', 'fermi,dip', xyz, alpha_0, omega, k_grid, uc,\n",
    "                                      r_vdw=R_vdw, beta=1., a=6.)[0]\n",
    "    enes_periodic.append(ene)"
   ]
  },
  {
   "cell_type": "code",
   "execution_count": null,
   "metadata": {
    "collapsed": false
   },
   "outputs": [],
   "source": [
    "ns_cell = [3, 4, 5, 6, 7]\n",
    "enes_supercell = []\n",
    "for n_cell in ns_cell:\n",
    "    ene = mbd.get_supercell_mbd_energy('C', 'fermi,dip', xyz, alpha_0, omega, uc, (n_cell, n_cell, n_cell),\n",
    "                                       r_vdw=R_vdw, beta=1., a=6.)[0]\n",
    "    enes_supercell.append(ene)"
   ]
  },
  {
   "cell_type": "code",
   "execution_count": null,
   "metadata": {
    "collapsed": false
   },
   "outputs": [],
   "source": [
    "plt.plot(ns_cell, enes_supercell, 'b',\n",
    "         ns_kpt, enes_periodic, 'r')"
   ]
  },
  {
   "cell_type": "code",
   "execution_count": null,
   "metadata": {
    "collapsed": true
   },
   "outputs": [],
   "source": [
    "k_grid = mbd.make_k_grid(mbd.make_g_grid(5, 5, 5), uc)+0.01"
   ]
  },
  {
   "cell_type": "code",
   "execution_count": null,
   "metadata": {
    "collapsed": false
   },
   "outputs": [],
   "source": [
    "mbd.get_ts_energy('C', 'fermi2', xyz, C6, alpha_0, r_vdw=R_vdw, s_r=1., d=6., unit_cell=uc)"
   ]
  },
  {
   "cell_type": "markdown",
   "metadata": {},
   "source": [
    "## Graphene"
   ]
  },
  {
   "cell_type": "code",
   "execution_count": null,
   "metadata": {
    "collapsed": true
   },
   "outputs": [],
   "source": [
    "species = ['C', 'C']\n",
    "xyz = [(0., 0., 0.), (2.46000413, 1.42034734, 0.)]/bohr\n",
    "uc = np.array([\n",
    "    (2.45999892, 0.00000000, 0.00000000),\n",
    "    (1.22999946, 2.13042155, 0.00000000),\n",
    "    (0.00000000, 0.00000000, 100.00000000)])/bohr\n",
    "mbd.param_vacuum_axis = (False, False, True)"
   ]
  },
  {
   "cell_type": "code",
   "execution_count": null,
   "metadata": {
    "collapsed": false
   },
   "outputs": [],
   "source": [
    "alpha_0, C6, R_vdw = pymbd.get_free_atom_data(species)\n",
    "omega = mbd.omega_eff(C6, alpha_0)"
   ]
  },
  {
   "cell_type": "code",
   "execution_count": null,
   "metadata": {
    "collapsed": false
   },
   "outputs": [],
   "source": [
    "k_grid = mbd.make_k_grid(mbd.make_g_grid(200, 1, 1), uc)"
   ]
  },
  {
   "cell_type": "code",
   "execution_count": null,
   "metadata": {
    "collapsed": false
   },
   "outputs": [],
   "source": [
    "omegas = mbd.get_reciprocal_mbd_energy('REV', 'fermi,dip', xyz, alpha_0, omega, k_grid, uc,\n",
    "                                       r_vdw=R_vdw, beta=1., a=6.)[1]"
   ]
  },
  {
   "cell_type": "code",
   "execution_count": null,
   "metadata": {
    "collapsed": false
   },
   "outputs": [],
   "source": [
    "plt.plot(*chain.from_iterable((*zip(*sorted(zip(k_grid[:, 0], omegas[:, i]))), 'b-') for i in range(omegas.shape[1])))"
   ]
  },
  {
   "cell_type": "code",
   "execution_count": null,
   "metadata": {
    "collapsed": false
   },
   "outputs": [],
   "source": [
    "ns_kpt = [4, 6, 8, 10, 15, 20, 30]\n",
    "enes_periodic = []\n",
    "for n_kpt in ns_kpt:\n",
    "    k_grid = mbd.make_k_grid(mbd.make_g_grid(n_kpt, n_kpt, 1), uc)\n",
    "    ene = mbd.get_reciprocal_mbd_energy('R', 'fermi,dip', xyz, alpha_0, omega, k_grid, uc,\n",
    "                                      r_vdw=R_vdw, beta=1., a=6.)[0]\n",
    "    enes_periodic.append(ene)"
   ]
  },
  {
   "cell_type": "code",
   "execution_count": null,
   "metadata": {
    "collapsed": false
   },
   "outputs": [],
   "source": [
    "ns_cell = [5, 7, 9, 11, 13, 17]\n",
    "enes_supercell = []\n",
    "for n_cell in ns_cell:\n",
    "    ene = mbd.get_supercell_mbd_energy('C', 'fermi,dip', xyz, alpha_0, omega, uc, (n_cell, n_cell, 1),\n",
    "                                       r_vdw=R_vdw, beta=1., a=6.)[0]\n",
    "    enes_supercell.append(ene)"
   ]
  },
  {
   "cell_type": "code",
   "execution_count": null,
   "metadata": {
    "collapsed": false
   },
   "outputs": [],
   "source": [
    "plt.plot(ns_cell, enes_supercell, 'b',\n",
    "         ns_kpt, enes_periodic, 'r')"
   ]
  },
  {
   "cell_type": "code",
   "execution_count": null,
   "metadata": {
    "collapsed": false
   },
   "outputs": [],
   "source": [
    "mbd.param_dipole_low_dim_cutoff = 100"
   ]
  },
  {
   "cell_type": "code",
   "execution_count": null,
   "metadata": {
    "collapsed": false
   },
   "outputs": [],
   "source": [
    "# k_grid = mbd.make_k_grid(mbd.make_g_grid(15, 15, 1), uc)\n",
    "# ene, _, _, orders = mbd.get_reciprocal_mbd_energy('RQO', 'fermi,dip', xyz, alpha_0, omega, k_grid, uc,\n",
    "#                                       r_vdw=R_vdw, beta=1., a=6.)"
   ]
  },
  {
   "cell_type": "code",
   "execution_count": null,
   "metadata": {
    "collapsed": false
   },
   "outputs": [],
   "source": [
    "# k_grid = mbd.make_k_grid(mbd.make_g_grid(100, 1, 1), uc)\n",
    "# orders = mbd.get_reciprocal_mbd_energy('RQO', 'fermi,dip', xyz, alpha_0, omega, k_grid, uc,\n",
    "#                                       r_vdw=R_vdw, beta=1., a=6.)[3]"
   ]
  },
  {
   "cell_type": "code",
   "execution_count": null,
   "metadata": {
    "collapsed": false
   },
   "outputs": [],
   "source": [
    "# plt.plot(*chain.from_iterable((*zip(*sorted(zip(k_grid[:, 0], orders[:, i]))), 'b-') for i in range(omegas.shape[1])))"
   ]
  }
 ],
 "metadata": {
  "kernelspec": {
   "display_name": "Python 3",
   "language": "python",
   "name": "python3"
  },
  "language_info": {
   "codemirror_mode": {
    "name": "ipython",
    "version": 3
   },
   "file_extension": ".py",
   "mimetype": "text/x-python",
   "name": "python",
   "nbconvert_exporter": "python",
   "pygments_lexer": "ipython3",
   "version": "3.5.1"
  }
 },
 "nbformat": 4,
 "nbformat_minor": 0
}
